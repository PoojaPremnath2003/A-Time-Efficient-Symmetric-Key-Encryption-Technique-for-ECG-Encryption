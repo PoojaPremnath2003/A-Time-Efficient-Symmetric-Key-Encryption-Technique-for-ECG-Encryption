{
 "cells": [
  {
   "cell_type": "code",
   "execution_count": 1,
   "id": "ac5279e8",
   "metadata": {},
   "outputs": [],
   "source": [
    "import wave\n",
    "import matplotlib.pyplot as plt"
   ]
  },
  {
   "cell_type": "code",
   "execution_count": 2,
   "id": "efb26717",
   "metadata": {},
   "outputs": [],
   "source": [
    "file=wave.open('sig100.wav')"
   ]
  },
  {
   "cell_type": "code",
   "execution_count": 3,
   "id": "0be0a00b",
   "metadata": {},
   "outputs": [
    {
     "name": "stdout",
     "output_type": "stream",
     "text": [
      "The no of channels is: 2\n"
     ]
    }
   ],
   "source": [
    "#no of channels in the file\n",
    "#channel=no of sources from which the audio comes from- mono= from a single input\n",
    "#stereo= from 2 sources (equivalent to sound from left and right headphones)\n",
    "print(\"The no of channels is:\",file.getnchannels())"
   ]
  },
  {
   "cell_type": "code",
   "execution_count": 4,
   "id": "7cfabfcf",
   "metadata": {},
   "outputs": [
    {
     "name": "stdout",
     "output_type": "stream",
     "text": [
      "Sampling frequency 360\n"
     ]
    }
   ],
   "source": [
    "#Frequency of the sample\n",
    "#this gives the no of frames per second\n",
    "s_rate=file.getframerate()\n",
    "print(\"Sampling frequency\",s_rate)"
   ]
  },
  {
   "cell_type": "code",
   "execution_count": 5,
   "id": "fddd5760",
   "metadata": {
    "scrolled": true
   },
   "outputs": [
    {
     "name": "stdout",
     "output_type": "stream",
     "text": [
      "No of bytes in a sample: 2\n"
     ]
    }
   ],
   "source": [
    "#no of bytes in every sample\n",
    "print(\"No of bytes in a sample:\",file.getsampwidth())"
   ]
  },
  {
   "cell_type": "code",
   "execution_count": 6,
   "id": "96a2cf41",
   "metadata": {},
   "outputs": [
    {
     "name": "stdout",
     "output_type": "stream",
     "text": [
      "650000\n"
     ]
    }
   ],
   "source": [
    "#to find the total number of frames in the sample\n",
    "n_frames=file.getnframes()\n",
    "print(n_frames)"
   ]
  },
  {
   "cell_type": "code",
   "execution_count": 7,
   "id": "8270c986",
   "metadata": {},
   "outputs": [
    {
     "name": "stderr",
     "output_type": "stream",
     "text": [
      "IOPub data rate exceeded.\n",
      "The notebook server will temporarily stop sending output\n",
      "to the client in order to avoid crashing it.\n",
      "To change this limit, set the config variable\n",
      "`--NotebookApp.iopub_data_rate_limit`.\n",
      "\n",
      "Current values:\n",
      "NotebookApp.iopub_data_rate_limit=1000000.0 (bytes/sec)\n",
      "NotebookApp.rate_limit_window=3.0 (secs)\n",
      "\n"
     ]
    }
   ],
   "source": [
    "#to read frames of the wave file\n",
    "data=file.readframes(-1) # to read n frames\n",
    "print(data)"
   ]
  },
  {
   "cell_type": "code",
   "execution_count": 8,
   "id": "a700a102",
   "metadata": {},
   "outputs": [],
   "source": [
    "#The above o/p shows binary data\n",
    "#There are 2 channels, and 2 bytes per channel= 4 bytes in all in a frame\n",
    "#First two bytes= from 1st channel, next 2 bytes= from the next channel"
   ]
  },
  {
   "cell_type": "code",
   "execution_count": 9,
   "id": "f628bed9",
   "metadata": {},
   "outputs": [
    {
     "name": "stdout",
     "output_type": "stream",
     "text": [
      "[ -928  -416  -928 ... -2144 -8192     0]\n"
     ]
    }
   ],
   "source": [
    "#To decode the binary data\n",
    "import numpy as np\n",
    "op=np.frombuffer(data,np.int16)\n",
    "print(op)"
   ]
  },
  {
   "cell_type": "code",
   "execution_count": 10,
   "id": "f633de55",
   "metadata": {},
   "outputs": [
    {
     "name": "stdout",
     "output_type": "stream",
     "text": [
      "[[ -928  -416]\n",
      " [ -928  -416]\n",
      " [ -928  -416]\n",
      " ...\n",
      " [-4320 -2336]\n",
      " [-4896 -2144]\n",
      " [-8192     0]]\n"
     ]
    }
   ],
   "source": [
    "op.shape=-1,2\n",
    "#-1 stands for all the rows, 2 for the number of columnns\n",
    "print(op)\n",
    "temp=op[:]"
   ]
  },
  {
   "cell_type": "code",
   "execution_count": 11,
   "id": "3941518d",
   "metadata": {},
   "outputs": [],
   "source": [
    "#in the above o/p, the first column= from the first channel\n",
    "#second column= from the second column\n"
   ]
  },
  {
   "cell_type": "code",
   "execution_count": 12,
   "id": "7ac5a1b1",
   "metadata": {},
   "outputs": [
    {
     "name": "stdout",
     "output_type": "stream",
     "text": [
      "[[ -928  -928  -928 ... -4320 -4896 -8192]\n",
      " [ -416  -416  -416 ... -2336 -2144     0]]\n"
     ]
    }
   ],
   "source": [
    "#taking the transpose, so that each row= from one channel\n",
    "op=op.T\n",
    "print(op)\n",
    "#new_op=(op[0:30])\n",
    "#print(new_op)"
   ]
  },
  {
   "cell_type": "code",
   "execution_count": 13,
   "id": "bf9134e3",
   "metadata": {},
   "outputs": [
    {
     "name": "stdout",
     "output_type": "stream",
     "text": [
      "1805.5555555555557\n"
     ]
    }
   ],
   "source": [
    "#to make the time sequence\n",
    "#1. Find the total duration of the file\n",
    "#duration= n_frames/sampling_rate (sampling rate= no of samples per sec )\n",
    "duration=n_frames/s_rate\n",
    "print(duration)\n",
    "\n",
    "#time difference between each sample\n",
    "diff=1/s_rate"
   ]
  },
  {
   "cell_type": "code",
   "execution_count": 14,
   "id": "4155d990",
   "metadata": {},
   "outputs": [],
   "source": [
    "#to generate a time sequence\n",
    "t_seq=np.arange(0,duration,diff)\n",
    "#the arrange function's params are initial and final val, and the step val\n"
   ]
  },
  {
   "cell_type": "code",
   "execution_count": 15,
   "id": "3393a107",
   "metadata": {},
   "outputs": [
    {
     "data": {
      "text/plain": [
       "Text(0, 0.5, 'Amplitude')"
      ]
     },
     "execution_count": 15,
     "metadata": {},
     "output_type": "execute_result"
    },
    {
     "data": {
      "image/png": "[encoded data removed]",
      "text/plain": [
       "<Figure size 1440x720 with 1 Axes>"
      ]
     },
     "metadata": {
      "needs_background": "light"
     },
     "output_type": "display_data"
    }
   ],
   "source": [
    "#to plot the first channel\n",
    "plt.figure(figsize=(20,10))\n",
    "plt.xlim(0,5)\n",
    "plt.plot(t_seq,op[0])\n",
    "plt.xlabel(\"Time\")\n",
    "plt.ylabel(\"Amplitude\")"
   ]
  },
  {
   "cell_type": "code",
   "execution_count": 16,
   "id": "12b86df6",
   "metadata": {
    "scrolled": true
   },
   "outputs": [
    {
     "data": {
      "text/plain": [
       "Text(0, 0.5, 'Amplitude')"
      ]
     },
     "execution_count": 16,
     "metadata": {},
     "output_type": "execute_result"
    },
    {
     "data": {
      "image/png": "[encoded data removed]",
      "text/plain": [
       "<Figure size 432x288 with 1 Axes>"
      ]
     },
     "metadata": {
      "needs_background": "light"
     },
     "output_type": "display_data"
    }
   ],
   "source": [
    "#to plot the second channel\n",
    "plt.plot(t_seq,op[1])\n",
    "plt.xlabel(\"Time\")\n",
    "plt.ylabel(\"Amplitude\")"
   ]
  },
  {
   "cell_type": "code",
   "execution_count": 17,
   "id": "1bdd1385",
   "metadata": {},
   "outputs": [
    {
     "data": {
      "text/plain": [
       "(2, 650000)"
      ]
     },
     "execution_count": 17,
     "metadata": {},
     "output_type": "execute_result"
    }
   ],
   "source": [
    "op.shape"
   ]
  },
  {
   "cell_type": "code",
   "execution_count": 18,
   "id": "2d546ff8",
   "metadata": {},
   "outputs": [],
   "source": [
    "temp=op.ravel()"
   ]
  },
  {
   "cell_type": "code",
   "execution_count": 19,
   "id": "ced037e2",
   "metadata": {},
   "outputs": [
    {
     "data": {
      "text/plain": [
       "(1300000,)"
      ]
     },
     "execution_count": 19,
     "metadata": {},
     "output_type": "execute_result"
    }
   ],
   "source": [
    "temp.shape"
   ]
  },
  {
   "cell_type": "code",
   "execution_count": 20,
   "id": "eb54cfc5",
   "metadata": {},
   "outputs": [],
   "source": [
    "a=np.array([temp])"
   ]
  },
  {
   "cell_type": "code",
   "execution_count": 21,
   "id": "4e522f19",
   "metadata": {},
   "outputs": [
    {
     "data": {
      "text/plain": [
       "(1, 1300000)"
      ]
     },
     "execution_count": 21,
     "metadata": {},
     "output_type": "execute_result"
    }
   ],
   "source": [
    "a.shape"
   ]
  },
  {
   "cell_type": "code",
   "execution_count": 22,
   "id": "a597e69f",
   "metadata": {},
   "outputs": [],
   "source": [
    "new=a.T"
   ]
  },
  {
   "cell_type": "code",
   "execution_count": 23,
   "id": "38b026a6",
   "metadata": {},
   "outputs": [
    {
     "data": {
      "text/plain": [
       "(1300000, 1)"
      ]
     },
     "execution_count": 23,
     "metadata": {},
     "output_type": "execute_result"
    }
   ],
   "source": [
    "new.shape"
   ]
  },
  {
   "cell_type": "code",
   "execution_count": 24,
   "id": "2c44c649",
   "metadata": {},
   "outputs": [
    {
     "data": {
      "text/plain": [
       "array([[ -928],\n",
       "       [ -928],\n",
       "       [ -928],\n",
       "       ...,\n",
       "       [-2336],\n",
       "       [-2144],\n",
       "       [    0]], dtype=int16)"
      ]
     },
     "execution_count": 24,
     "metadata": {},
     "output_type": "execute_result"
    }
   ],
   "source": [
    "new"
   ]
  },
  {
   "cell_type": "code",
   "execution_count": 25,
   "id": "cbfb2766",
   "metadata": {},
   "outputs": [],
   "source": [
    "def squarify(M,val):\n",
    "    (a,b)=M.shape\n",
    "    if a>b:\n",
    "        padding=((0,0),(0,a-b))\n",
    "    else:\n",
    "        padding=((0,b-a),(0,0))\n",
    "    return np.pad(M,padding,mode='constant',constant_values=val)"
   ]
  },
  {
   "cell_type": "code",
   "execution_count": 26,
   "id": "6aa054c5",
   "metadata": {},
   "outputs": [],
   "source": [
    "#trying to square the matrix, channel wise"
   ]
  },
  {
   "cell_type": "code",
   "execution_count": 27,
   "id": "8623d01d",
   "metadata": {},
   "outputs": [],
   "source": [
    "c1=np.array([op[1].copy()])"
   ]
  },
  {
   "cell_type": "code",
   "execution_count": 28,
   "id": "d34c1373",
   "metadata": {},
   "outputs": [],
   "source": [
    "c1_t=c1.T"
   ]
  },
  {
   "cell_type": "code",
   "execution_count": 29,
   "id": "8ded3c1b",
   "metadata": {},
   "outputs": [
    {
     "data": {
      "text/plain": [
       "(650000, 1)"
      ]
     },
     "execution_count": 29,
     "metadata": {},
     "output_type": "execute_result"
    }
   ],
   "source": [
    "c1_t.shape"
   ]
  },
  {
   "cell_type": "code",
   "execution_count": 30,
   "id": "dbfa4fac",
   "metadata": {},
   "outputs": [
    {
     "ename": "MemoryError",
     "evalue": "Unable to allocate 787. GiB for an array with shape (650000, 650000) and data type int16",
     "output_type": "error",
     "traceback": [
      "\u001b[1;31m---------------------------------------------------------------------------\u001b[0m",
      "\u001b[1;31mMemoryError\u001b[0m                               Traceback (most recent call last)",
      "Input \u001b[1;32mIn [30]\u001b[0m, in \u001b[0;36m<cell line: 1>\u001b[1;34m()\u001b[0m\n\u001b[1;32m----> 1\u001b[0m \u001b[43msquarify\u001b[49m\u001b[43m(\u001b[49m\u001b[43mc1_t\u001b[49m\u001b[43m,\u001b[49m\u001b[38;5;241;43m0\u001b[39;49m\u001b[43m)\u001b[49m\n",
      "Input \u001b[1;32mIn [25]\u001b[0m, in \u001b[0;36msquarify\u001b[1;34m(M, val)\u001b[0m\n\u001b[0;32m      5\u001b[0m \u001b[38;5;28;01melse\u001b[39;00m:\n\u001b[0;32m      6\u001b[0m     padding\u001b[38;5;241m=\u001b[39m((\u001b[38;5;241m0\u001b[39m,b\u001b[38;5;241m-\u001b[39ma),(\u001b[38;5;241m0\u001b[39m,\u001b[38;5;241m0\u001b[39m))\n\u001b[1;32m----> 7\u001b[0m \u001b[38;5;28;01mreturn\u001b[39;00m \u001b[43mnp\u001b[49m\u001b[38;5;241;43m.\u001b[39;49m\u001b[43mpad\u001b[49m\u001b[43m(\u001b[49m\u001b[43mM\u001b[49m\u001b[43m,\u001b[49m\u001b[43mpadding\u001b[49m\u001b[43m,\u001b[49m\u001b[43mmode\u001b[49m\u001b[38;5;241;43m=\u001b[39;49m\u001b[38;5;124;43m'\u001b[39;49m\u001b[38;5;124;43mconstant\u001b[39;49m\u001b[38;5;124;43m'\u001b[39;49m\u001b[43m,\u001b[49m\u001b[43mconstant_values\u001b[49m\u001b[38;5;241;43m=\u001b[39;49m\u001b[43mval\u001b[49m\u001b[43m)\u001b[49m\n",
      "File \u001b[1;32m<__array_function__ internals>:180\u001b[0m, in \u001b[0;36mpad\u001b[1;34m(*args, **kwargs)\u001b[0m\n",
      "File \u001b[1;32m~\\AppData\\Local\\Programs\\Python\\Python310\\lib\\site-packages\\numpy\\lib\\arraypad.py:793\u001b[0m, in \u001b[0;36mpad\u001b[1;34m(array, pad_width, mode, **kwargs)\u001b[0m\n\u001b[0;32m    788\u001b[0m stat_functions \u001b[38;5;241m=\u001b[39m {\u001b[38;5;124m\"\u001b[39m\u001b[38;5;124mmaximum\u001b[39m\u001b[38;5;124m\"\u001b[39m: np\u001b[38;5;241m.\u001b[39mamax, \u001b[38;5;124m\"\u001b[39m\u001b[38;5;124mminimum\u001b[39m\u001b[38;5;124m\"\u001b[39m: np\u001b[38;5;241m.\u001b[39mamin,\n\u001b[0;32m    789\u001b[0m                   \u001b[38;5;124m\"\u001b[39m\u001b[38;5;124mmean\u001b[39m\u001b[38;5;124m\"\u001b[39m: np\u001b[38;5;241m.\u001b[39mmean, \u001b[38;5;124m\"\u001b[39m\u001b[38;5;124mmedian\u001b[39m\u001b[38;5;124m\"\u001b[39m: np\u001b[38;5;241m.\u001b[39mmedian}\n\u001b[0;32m    791\u001b[0m \u001b[38;5;66;03m# Create array with final shape and original values\u001b[39;00m\n\u001b[0;32m    792\u001b[0m \u001b[38;5;66;03m# (padded area is undefined)\u001b[39;00m\n\u001b[1;32m--> 793\u001b[0m padded, original_area_slice \u001b[38;5;241m=\u001b[39m \u001b[43m_pad_simple\u001b[49m\u001b[43m(\u001b[49m\u001b[43marray\u001b[49m\u001b[43m,\u001b[49m\u001b[43m \u001b[49m\u001b[43mpad_width\u001b[49m\u001b[43m)\u001b[49m\n\u001b[0;32m    794\u001b[0m \u001b[38;5;66;03m# And prepare iteration over all dimensions\u001b[39;00m\n\u001b[0;32m    795\u001b[0m \u001b[38;5;66;03m# (zipping may be more readable than using enumerate)\u001b[39;00m\n\u001b[0;32m    796\u001b[0m axes \u001b[38;5;241m=\u001b[39m \u001b[38;5;28mrange\u001b[39m(padded\u001b[38;5;241m.\u001b[39mndim)\n",
      "File \u001b[1;32m~\\AppData\\Local\\Programs\\Python\\Python310\\lib\\site-packages\\numpy\\lib\\arraypad.py:114\u001b[0m, in \u001b[0;36m_pad_simple\u001b[1;34m(array, pad_width, fill_value)\u001b[0m\n\u001b[0;32m    109\u001b[0m new_shape \u001b[38;5;241m=\u001b[39m \u001b[38;5;28mtuple\u001b[39m(\n\u001b[0;32m    110\u001b[0m     left \u001b[38;5;241m+\u001b[39m size \u001b[38;5;241m+\u001b[39m right\n\u001b[0;32m    111\u001b[0m     \u001b[38;5;28;01mfor\u001b[39;00m size, (left, right) \u001b[38;5;129;01min\u001b[39;00m \u001b[38;5;28mzip\u001b[39m(array\u001b[38;5;241m.\u001b[39mshape, pad_width)\n\u001b[0;32m    112\u001b[0m )\n\u001b[0;32m    113\u001b[0m order \u001b[38;5;241m=\u001b[39m \u001b[38;5;124m'\u001b[39m\u001b[38;5;124mF\u001b[39m\u001b[38;5;124m'\u001b[39m \u001b[38;5;28;01mif\u001b[39;00m array\u001b[38;5;241m.\u001b[39mflags\u001b[38;5;241m.\u001b[39mfnc \u001b[38;5;28;01melse\u001b[39;00m \u001b[38;5;124m'\u001b[39m\u001b[38;5;124mC\u001b[39m\u001b[38;5;124m'\u001b[39m  \u001b[38;5;66;03m# Fortran and not also C-order\u001b[39;00m\n\u001b[1;32m--> 114\u001b[0m padded \u001b[38;5;241m=\u001b[39m \u001b[43mnp\u001b[49m\u001b[38;5;241;43m.\u001b[39;49m\u001b[43mempty\u001b[49m\u001b[43m(\u001b[49m\u001b[43mnew_shape\u001b[49m\u001b[43m,\u001b[49m\u001b[43m \u001b[49m\u001b[43mdtype\u001b[49m\u001b[38;5;241;43m=\u001b[39;49m\u001b[43marray\u001b[49m\u001b[38;5;241;43m.\u001b[39;49m\u001b[43mdtype\u001b[49m\u001b[43m,\u001b[49m\u001b[43m \u001b[49m\u001b[43morder\u001b[49m\u001b[38;5;241;43m=\u001b[39;49m\u001b[43morder\u001b[49m\u001b[43m)\u001b[49m\n\u001b[0;32m    116\u001b[0m \u001b[38;5;28;01mif\u001b[39;00m fill_value \u001b[38;5;129;01mis\u001b[39;00m \u001b[38;5;129;01mnot\u001b[39;00m \u001b[38;5;28;01mNone\u001b[39;00m:\n\u001b[0;32m    117\u001b[0m     padded\u001b[38;5;241m.\u001b[39mfill(fill_value)\n",
      "\u001b[1;31mMemoryError\u001b[0m: Unable to allocate 787. GiB for an array with shape (650000, 650000) and data type int16"
     ]
    }
   ],
   "source": [
    "squarify(c1_t,0)"
   ]
  }
 ],
 "metadata": {
  "kernelspec": {
   "display_name": "Python 3 (ipykernel)",
   "language": "python",
   "name": "python3"
  },
  "language_info": {
   "codemirror_mode": {
    "name": "ipython",
    "version": 3
   },
   "file_extension": ".py",
   "mimetype": "text/x-python",
   "name": "python",
   "nbconvert_exporter": "python",
   "pygments_lexer": "ipython3",
   "version": "3.10.0"
  }
 },
 "nbformat": 4,
 "nbformat_minor": 5
}
