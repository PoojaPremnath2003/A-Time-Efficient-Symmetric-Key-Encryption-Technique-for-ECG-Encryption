{
 "cells": [
  {
   "cell_type": "code",
   "execution_count": 27,
   "id": "de6afe91",
   "metadata": {},
   "outputs": [],
   "source": [
    "import pandas as pd\n",
    "header=[\"Val 1\", \"Val 2\"]\n",
    "enc_file=pd.read_csv(\"Encrypted_values.csv\",names=header)\n",
    "enc_file\n",
    "df1=(enc_file[\"Val 1\"])\n",
    "df2=(enc_file[\"Val 2\"])\n",
    "dfs=[df1,df2]\n",
    "new_df=pd.concat(dfs)"
   ]
  },
  {
   "cell_type": "code",
   "execution_count": 28,
   "id": "d9b159df",
   "metadata": {},
   "outputs": [
    {
     "data": {
      "text/plain": [
       "0        -24.740824\n",
       "1        -24.766034\n",
       "2        -24.771505\n",
       "3        -24.663434\n",
       "4        -24.509633\n",
       "            ...    \n",
       "649995   -24.088181\n",
       "649996   -24.224066\n",
       "649997   -24.447803\n",
       "649998   -24.600829\n",
       "649999   -24.677999\n",
       "Length: 1300000, dtype: float64"
      ]
     },
     "execution_count": 28,
     "metadata": {},
     "output_type": "execute_result"
    }
   ],
   "source": [
    "new_df"
   ]
  }
 ],
 "metadata": {
  "kernelspec": {
   "display_name": "Python 3 (ipykernel)",
   "language": "python",
   "name": "python3"
  },
  "language_info": {
   "codemirror_mode": {
    "name": "ipython",
    "version": 3
   },
   "file_extension": ".py",
   "mimetype": "text/x-python",
   "name": "python",
   "nbconvert_exporter": "python",
   "pygments_lexer": "ipython3",
   "version": "3.10.0"
  }
 },
 "nbformat": 4,
 "nbformat_minor": 5
}
